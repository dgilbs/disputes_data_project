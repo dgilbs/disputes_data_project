{
 "cells": [
  {
   "cell_type": "code",
   "execution_count": 474,
   "metadata": {
    "collapsed": false
   },
   "outputs": [
    {
     "name": "stdout",
     "output_type": "stream",
     "text": [
      "Populating the interactive namespace from numpy and matplotlib\n"
     ]
    }
   ],
   "source": [
    "import pandas as pd\n",
    "import numpy as np\n",
    "import seaborn as sns\n",
    "import matplotlib.pyplot as plt\n",
    "import plotly.plotly as ply\n",
    "from datetime import date\n",
    "from sklearn.neighbors import KNeighborsClassifier\n",
    "from sklearn import metrics\n",
    "from sklearn.model_selection import cross_val_score\n",
    "from sklearn.linear_model import LogisticRegression\n",
    "from sklearn.tree import DecisionTreeClassifier\n",
    "from sklearn.svm import LinearSVC\n",
    "from sklearn.svm import SVC\n",
    "from sklearn.ensemble import RandomForestClassifier\n",
    "from sklearn.linear_model import LogisticRegression\n",
    "%pylab inline"
   ]
  },
  {
   "cell_type": "markdown",
   "metadata": {},
   "source": [
    "#### Datasets\n",
    "\n",
    "Using pandas, read in the CSVs for disputes and incidents and make a master one for each category"
   ]
  },
  {
   "cell_type": "code",
   "execution_count": 475,
   "metadata": {
    "collapsed": true
   },
   "outputs": [],
   "source": [
    "dispute1 = pd.read_csv(\"/Users/danielgilberg/data_science/metis/practice/mcnulty/data/MID-level/MIDA_4.01.csv\")"
   ]
  },
  {
   "cell_type": "code",
   "execution_count": 476,
   "metadata": {
    "collapsed": false
   },
   "outputs": [
    {
     "data": {
      "text/html": [
       "<div>\n",
       "<style>\n",
       "    .dataframe thead tr:only-child th {\n",
       "        text-align: right;\n",
       "    }\n",
       "\n",
       "    .dataframe thead th {\n",
       "        text-align: left;\n",
       "    }\n",
       "\n",
       "    .dataframe tbody tr th {\n",
       "        vertical-align: top;\n",
       "    }\n",
       "</style>\n",
       "<table border=\"1\" class=\"dataframe\">\n",
       "  <thead>\n",
       "    <tr style=\"text-align: right;\">\n",
       "      <th></th>\n",
       "      <th>DispNum3</th>\n",
       "      <th>DispNum4</th>\n",
       "      <th>StDay</th>\n",
       "      <th>StMon</th>\n",
       "      <th>StYear</th>\n",
       "      <th>EndDay</th>\n",
       "      <th>EndMon</th>\n",
       "      <th>EndYear</th>\n",
       "      <th>Outcome</th>\n",
       "      <th>Settle</th>\n",
       "      <th>...</th>\n",
       "      <th>HiAct</th>\n",
       "      <th>HostLev</th>\n",
       "      <th>Recip</th>\n",
       "      <th>NumA</th>\n",
       "      <th>NumB</th>\n",
       "      <th>Link1</th>\n",
       "      <th>Link2</th>\n",
       "      <th>Link3</th>\n",
       "      <th>Ongo2010</th>\n",
       "      <th>Version</th>\n",
       "    </tr>\n",
       "  </thead>\n",
       "  <tbody>\n",
       "    <tr>\n",
       "      <th>0</th>\n",
       "      <td>2</td>\n",
       "      <td>-9</td>\n",
       "      <td>-9</td>\n",
       "      <td>7</td>\n",
       "      <td>1902</td>\n",
       "      <td>24</td>\n",
       "      <td>1</td>\n",
       "      <td>1903</td>\n",
       "      <td>6</td>\n",
       "      <td>1</td>\n",
       "      <td>...</td>\n",
       "      <td>7</td>\n",
       "      <td>3</td>\n",
       "      <td>0</td>\n",
       "      <td>1</td>\n",
       "      <td>1</td>\n",
       "      <td>0</td>\n",
       "      <td>0</td>\n",
       "      <td>0.0</td>\n",
       "      <td>0</td>\n",
       "      <td>4.01</td>\n",
       "    </tr>\n",
       "    <tr>\n",
       "      <th>1</th>\n",
       "      <td>3</td>\n",
       "      <td>-9</td>\n",
       "      <td>2</td>\n",
       "      <td>5</td>\n",
       "      <td>1913</td>\n",
       "      <td>25</td>\n",
       "      <td>10</td>\n",
       "      <td>1913</td>\n",
       "      <td>4</td>\n",
       "      <td>3</td>\n",
       "      <td>...</td>\n",
       "      <td>8</td>\n",
       "      <td>3</td>\n",
       "      <td>0</td>\n",
       "      <td>1</td>\n",
       "      <td>1</td>\n",
       "      <td>0</td>\n",
       "      <td>0</td>\n",
       "      <td>0.0</td>\n",
       "      <td>0</td>\n",
       "      <td>4.01</td>\n",
       "    </tr>\n",
       "    <tr>\n",
       "      <th>2</th>\n",
       "      <td>4</td>\n",
       "      <td>-9</td>\n",
       "      <td>15</td>\n",
       "      <td>5</td>\n",
       "      <td>1946</td>\n",
       "      <td>13</td>\n",
       "      <td>11</td>\n",
       "      <td>1946</td>\n",
       "      <td>5</td>\n",
       "      <td>3</td>\n",
       "      <td>...</td>\n",
       "      <td>16</td>\n",
       "      <td>4</td>\n",
       "      <td>1</td>\n",
       "      <td>1</td>\n",
       "      <td>1</td>\n",
       "      <td>0</td>\n",
       "      <td>0</td>\n",
       "      <td>0.0</td>\n",
       "      <td>0</td>\n",
       "      <td>4.01</td>\n",
       "    </tr>\n",
       "    <tr>\n",
       "      <th>3</th>\n",
       "      <td>7</td>\n",
       "      <td>-9</td>\n",
       "      <td>13</td>\n",
       "      <td>10</td>\n",
       "      <td>1951</td>\n",
       "      <td>26</td>\n",
       "      <td>1</td>\n",
       "      <td>1952</td>\n",
       "      <td>1</td>\n",
       "      <td>3</td>\n",
       "      <td>...</td>\n",
       "      <td>17</td>\n",
       "      <td>4</td>\n",
       "      <td>1</td>\n",
       "      <td>1</td>\n",
       "      <td>1</td>\n",
       "      <td>0</td>\n",
       "      <td>0</td>\n",
       "      <td>0.0</td>\n",
       "      <td>0</td>\n",
       "      <td>4.01</td>\n",
       "    </tr>\n",
       "    <tr>\n",
       "      <th>4</th>\n",
       "      <td>8</td>\n",
       "      <td>-9</td>\n",
       "      <td>-9</td>\n",
       "      <td>7</td>\n",
       "      <td>1856</td>\n",
       "      <td>14</td>\n",
       "      <td>3</td>\n",
       "      <td>1857</td>\n",
       "      <td>1</td>\n",
       "      <td>2</td>\n",
       "      <td>...</td>\n",
       "      <td>20</td>\n",
       "      <td>5</td>\n",
       "      <td>1</td>\n",
       "      <td>1</td>\n",
       "      <td>1</td>\n",
       "      <td>0</td>\n",
       "      <td>0</td>\n",
       "      <td>0.0</td>\n",
       "      <td>0</td>\n",
       "      <td>4.01</td>\n",
       "    </tr>\n",
       "  </tbody>\n",
       "</table>\n",
       "<p>5 rows × 24 columns</p>\n",
       "</div>"
      ],
      "text/plain": [
       "   DispNum3  DispNum4  StDay  StMon  StYear  EndDay  EndMon  EndYear  Outcome  \\\n",
       "0         2        -9     -9      7    1902      24       1     1903        6   \n",
       "1         3        -9      2      5    1913      25      10     1913        4   \n",
       "2         4        -9     15      5    1946      13      11     1946        5   \n",
       "3         7        -9     13     10    1951      26       1     1952        1   \n",
       "4         8        -9     -9      7    1856      14       3     1857        1   \n",
       "\n",
       "   Settle   ...    HiAct  HostLev  Recip  NumA  NumB  Link1  Link2  Link3  \\\n",
       "0       1   ...        7        3      0     1     1      0      0    0.0   \n",
       "1       3   ...        8        3      0     1     1      0      0    0.0   \n",
       "2       3   ...       16        4      1     1     1      0      0    0.0   \n",
       "3       3   ...       17        4      1     1     1      0      0    0.0   \n",
       "4       2   ...       20        5      1     1     1      0      0    0.0   \n",
       "\n",
       "   Ongo2010 Version  \n",
       "0         0    4.01  \n",
       "1         0    4.01  \n",
       "2         0    4.01  \n",
       "3         0    4.01  \n",
       "4         0    4.01  \n",
       "\n",
       "[5 rows x 24 columns]"
      ]
     },
     "execution_count": 476,
     "metadata": {},
     "output_type": "execute_result"
    }
   ],
   "source": [
    "dispute1.head()"
   ]
  },
  {
   "cell_type": "code",
   "execution_count": 477,
   "metadata": {
    "collapsed": true
   },
   "outputs": [],
   "source": [
    "dispute2 = pd.read_csv(\"/Users/danielgilberg/data_science/metis/practice/mcnulty/data/MID-level/MIDB_4.01.csv\")"
   ]
  },
  {
   "cell_type": "code",
   "execution_count": 478,
   "metadata": {
    "collapsed": false
   },
   "outputs": [
    {
     "data": {
      "text/html": [
       "<div>\n",
       "<style>\n",
       "    .dataframe thead tr:only-child th {\n",
       "        text-align: right;\n",
       "    }\n",
       "\n",
       "    .dataframe thead th {\n",
       "        text-align: left;\n",
       "    }\n",
       "\n",
       "    .dataframe tbody tr th {\n",
       "        vertical-align: top;\n",
       "    }\n",
       "</style>\n",
       "<table border=\"1\" class=\"dataframe\">\n",
       "  <thead>\n",
       "    <tr style=\"text-align: right;\">\n",
       "      <th></th>\n",
       "      <th>DispNum3</th>\n",
       "      <th>DispNum4</th>\n",
       "      <th>StAbb</th>\n",
       "      <th>ccode</th>\n",
       "      <th>StDay</th>\n",
       "      <th>StMon</th>\n",
       "      <th>StYear</th>\n",
       "      <th>EndDay</th>\n",
       "      <th>EndMon</th>\n",
       "      <th>EndYear</th>\n",
       "      <th>SideA</th>\n",
       "      <th>RevState</th>\n",
       "      <th>RevType1</th>\n",
       "      <th>RevType2</th>\n",
       "      <th>Fatality</th>\n",
       "      <th>FataPre</th>\n",
       "      <th>HiAct</th>\n",
       "      <th>HostLev</th>\n",
       "      <th>Orig</th>\n",
       "      <th>Version</th>\n",
       "    </tr>\n",
       "  </thead>\n",
       "  <tbody>\n",
       "    <tr>\n",
       "      <th>0</th>\n",
       "      <td>2</td>\n",
       "      <td>-9</td>\n",
       "      <td>UKG</td>\n",
       "      <td>200</td>\n",
       "      <td>-9</td>\n",
       "      <td>7</td>\n",
       "      <td>1902</td>\n",
       "      <td>24</td>\n",
       "      <td>1</td>\n",
       "      <td>1903</td>\n",
       "      <td>0</td>\n",
       "      <td>1</td>\n",
       "      <td>1</td>\n",
       "      <td>-9</td>\n",
       "      <td>0</td>\n",
       "      <td>0</td>\n",
       "      <td>0</td>\n",
       "      <td>1</td>\n",
       "      <td>1</td>\n",
       "      <td>4.01</td>\n",
       "    </tr>\n",
       "    <tr>\n",
       "      <th>1</th>\n",
       "      <td>2</td>\n",
       "      <td>-9</td>\n",
       "      <td>USA</td>\n",
       "      <td>2</td>\n",
       "      <td>-9</td>\n",
       "      <td>7</td>\n",
       "      <td>1902</td>\n",
       "      <td>24</td>\n",
       "      <td>1</td>\n",
       "      <td>1903</td>\n",
       "      <td>1</td>\n",
       "      <td>1</td>\n",
       "      <td>1</td>\n",
       "      <td>-9</td>\n",
       "      <td>0</td>\n",
       "      <td>0</td>\n",
       "      <td>7</td>\n",
       "      <td>3</td>\n",
       "      <td>1</td>\n",
       "      <td>4.01</td>\n",
       "    </tr>\n",
       "    <tr>\n",
       "      <th>2</th>\n",
       "      <td>3</td>\n",
       "      <td>-9</td>\n",
       "      <td>YUG</td>\n",
       "      <td>345</td>\n",
       "      <td>2</td>\n",
       "      <td>5</td>\n",
       "      <td>1913</td>\n",
       "      <td>25</td>\n",
       "      <td>10</td>\n",
       "      <td>1913</td>\n",
       "      <td>0</td>\n",
       "      <td>0</td>\n",
       "      <td>0</td>\n",
       "      <td>-9</td>\n",
       "      <td>0</td>\n",
       "      <td>0</td>\n",
       "      <td>0</td>\n",
       "      <td>1</td>\n",
       "      <td>1</td>\n",
       "      <td>4.01</td>\n",
       "    </tr>\n",
       "    <tr>\n",
       "      <th>3</th>\n",
       "      <td>3</td>\n",
       "      <td>-9</td>\n",
       "      <td>AUH</td>\n",
       "      <td>300</td>\n",
       "      <td>2</td>\n",
       "      <td>5</td>\n",
       "      <td>1913</td>\n",
       "      <td>25</td>\n",
       "      <td>10</td>\n",
       "      <td>1913</td>\n",
       "      <td>1</td>\n",
       "      <td>1</td>\n",
       "      <td>2</td>\n",
       "      <td>-9</td>\n",
       "      <td>0</td>\n",
       "      <td>0</td>\n",
       "      <td>8</td>\n",
       "      <td>3</td>\n",
       "      <td>1</td>\n",
       "      <td>4.01</td>\n",
       "    </tr>\n",
       "    <tr>\n",
       "      <th>4</th>\n",
       "      <td>4</td>\n",
       "      <td>-9</td>\n",
       "      <td>ALB</td>\n",
       "      <td>339</td>\n",
       "      <td>15</td>\n",
       "      <td>5</td>\n",
       "      <td>1946</td>\n",
       "      <td>13</td>\n",
       "      <td>11</td>\n",
       "      <td>1946</td>\n",
       "      <td>1</td>\n",
       "      <td>0</td>\n",
       "      <td>0</td>\n",
       "      <td>-9</td>\n",
       "      <td>0</td>\n",
       "      <td>0</td>\n",
       "      <td>16</td>\n",
       "      <td>4</td>\n",
       "      <td>1</td>\n",
       "      <td>4.01</td>\n",
       "    </tr>\n",
       "  </tbody>\n",
       "</table>\n",
       "</div>"
      ],
      "text/plain": [
       "   DispNum3  DispNum4 StAbb  ccode  StDay  StMon  StYear  EndDay  EndMon  \\\n",
       "0         2        -9   UKG    200     -9      7    1902      24       1   \n",
       "1         2        -9   USA      2     -9      7    1902      24       1   \n",
       "2         3        -9   YUG    345      2      5    1913      25      10   \n",
       "3         3        -9   AUH    300      2      5    1913      25      10   \n",
       "4         4        -9   ALB    339     15      5    1946      13      11   \n",
       "\n",
       "   EndYear  SideA  RevState  RevType1  RevType2  Fatality  FataPre  HiAct  \\\n",
       "0     1903      0         1         1        -9         0        0      0   \n",
       "1     1903      1         1         1        -9         0        0      7   \n",
       "2     1913      0         0         0        -9         0        0      0   \n",
       "3     1913      1         1         2        -9         0        0      8   \n",
       "4     1946      1         0         0        -9         0        0     16   \n",
       "\n",
       "   HostLev  Orig  Version  \n",
       "0        1     1     4.01  \n",
       "1        3     1     4.01  \n",
       "2        1     1     4.01  \n",
       "3        3     1     4.01  \n",
       "4        4     1     4.01  "
      ]
     },
     "execution_count": 478,
     "metadata": {},
     "output_type": "execute_result"
    }
   ],
   "source": [
    "dispute2.head()"
   ]
  },
  {
   "cell_type": "code",
   "execution_count": 479,
   "metadata": {
    "collapsed": false
   },
   "outputs": [],
   "source": [
    "incident1 = pd.read_csv(\"/Users/danielgilberg/data_science/metis/practice/mcnulty/data/Incident-level/MIDI_4.01.csv\")\n",
    "incident2 = pd.read_csv(\"/Users/danielgilberg/data_science/metis/practice/mcnulty/data/Incident-level/MIDIP_4.01.csv\")"
   ]
  },
  {
   "cell_type": "code",
   "execution_count": 480,
   "metadata": {
    "collapsed": false
   },
   "outputs": [],
   "source": [
    "incidents = pd.merge(incident1, incident2, on=[\"IncidNum3\", \"IncidNum4\", \"DispNum3\", \"DispNum4\", \"Version\"], how=\"outer\", suffixes=(\"_Inc\", \"_Part\"))"
   ]
  },
  {
   "cell_type": "code",
   "execution_count": 481,
   "metadata": {
    "collapsed": true
   },
   "outputs": [],
   "source": [
    "disputes = pd.merge(dispute1, dispute2, on=[\"DispNum3\", \"DispNum4\", \"Version\"], suffixes=(\"_Disp\", \"_Part\"))"
   ]
  },
  {
   "cell_type": "code",
   "execution_count": 482,
   "metadata": {
    "collapsed": false
   },
   "outputs": [],
   "source": [
    "modern_incidents = incidents[incidents.StYear_Inc > 1990]"
   ]
  },
  {
   "cell_type": "code",
   "execution_count": 483,
   "metadata": {
    "collapsed": true
   },
   "outputs": [],
   "source": [
    "merged_df = pd.merge(incidents, disputes, on=[\"DispNum3\", \"DispNum4\"], suffixes=(\"_Disp\", \"_Inc\"))\n",
    "merged_df.to_csv(\"merged.csv\")"
   ]
  },
  {
   "cell_type": "code",
   "execution_count": 484,
   "metadata": {
    "collapsed": false
   },
   "outputs": [],
   "source": [
    "all_modern = pd.merge(modern_incidents, disputes, on=[\"DispNum3\", \"DispNum4\"], suffixes=(\"_Disp\", \"_Inc\"))"
   ]
  },
  {
   "cell_type": "code",
   "execution_count": 485,
   "metadata": {
    "collapsed": true
   },
   "outputs": [],
   "source": [
    "modern_disputes = disputes[disputes.StYear_Disp > 1991]"
   ]
  },
  {
   "cell_type": "code",
   "execution_count": 486,
   "metadata": {
    "collapsed": false
   },
   "outputs": [],
   "source": [
    "military_df = pd.read_csv(\"/Users/danielgilberg/data_science/metis/practice/mcnulty/data/NMC_5_0/NMC_5_0.csv\")"
   ]
  },
  {
   "cell_type": "code",
   "execution_count": null,
   "metadata": {
    "collapsed": false
   },
   "outputs": [],
   "source": []
  },
  {
   "cell_type": "code",
   "execution_count": null,
   "metadata": {
    "collapsed": true
   },
   "outputs": [],
   "source": []
  },
  {
   "cell_type": "code",
   "execution_count": null,
   "metadata": {
    "collapsed": true
   },
   "outputs": [],
   "source": []
  },
  {
   "cell_type": "code",
   "execution_count": null,
   "metadata": {
    "collapsed": true
   },
   "outputs": [],
   "source": []
  },
  {
   "cell_type": "code",
   "execution_count": null,
   "metadata": {
    "collapsed": true
   },
   "outputs": [],
   "source": []
  },
  {
   "cell_type": "code",
   "execution_count": null,
   "metadata": {
    "collapsed": true
   },
   "outputs": [],
   "source": []
  },
  {
   "cell_type": "code",
   "execution_count": null,
   "metadata": {
    "collapsed": true
   },
   "outputs": [],
   "source": []
  },
  {
   "cell_type": "code",
   "execution_count": null,
   "metadata": {
    "collapsed": true
   },
   "outputs": [],
   "source": []
  },
  {
   "cell_type": "markdown",
   "metadata": {},
   "source": [
    "#### Filters and Data Manipulation"
   ]
  },
  {
   "cell_type": "code",
   "execution_count": 487,
   "metadata": {
    "collapsed": true
   },
   "outputs": [],
   "source": [
    "def is_major_dispute(host, fatal):\n",
    "    if host > 2 and fatal > 0:\n",
    "        return 1\n",
    "    else:\n",
    "        return 0"
   ]
  },
  {
   "cell_type": "code",
   "execution_count": 488,
   "metadata": {
    "collapsed": true
   },
   "outputs": [],
   "source": [
    "def date_column(month, year):\n",
    "    if not pd.isnull(month) and not pd.isnull(year):\n",
    "        return date(month=int(month), year=int(year), day=1)\n",
    "    else:\n",
    "        return \"\""
   ]
  },
  {
   "cell_type": "code",
   "execution_count": 489,
   "metadata": {
    "collapsed": false
   },
   "outputs": [
    {
     "name": "stderr",
     "output_type": "stream",
     "text": [
      "/Library/Frameworks/Python.framework/Versions/3.6/lib/python3.6/site-packages/ipykernel_launcher.py:1: SettingWithCopyWarning:\n",
      "\n",
      "\n",
      "A value is trying to be set on a copy of a slice from a DataFrame.\n",
      "Try using .loc[row_indexer,col_indexer] = value instead\n",
      "\n",
      "See the caveats in the documentation: http://pandas.pydata.org/pandas-docs/stable/indexing.html#indexing-view-versus-copy\n",
      "\n"
     ]
    },
    {
     "data": {
      "text/plain": [
       "4095    1\n",
       "4312    1\n",
       "4319    1\n",
       "4318    1\n",
       "4317    1\n",
       "4315    1\n",
       "4314    1\n",
       "4313    1\n",
       "4311    1\n",
       "4321    1\n",
       "4310    1\n",
       "4309    1\n",
       "4308    1\n",
       "4307    1\n",
       "4306    1\n",
       "4305    1\n",
       "4320    1\n",
       "4322    1\n",
       "4303    1\n",
       "4332    1\n",
       "4338    1\n",
       "4337    1\n",
       "4336    1\n",
       "4335    1\n",
       "4334    1\n",
       "4333    1\n",
       "4331    1\n",
       "4323    1\n",
       "4330    1\n",
       "4329    1\n",
       "       ..\n",
       "4497    1\n",
       "4496    1\n",
       "4495    1\n",
       "4493    1\n",
       "4502    1\n",
       "4492    1\n",
       "4491    1\n",
       "4490    1\n",
       "4489    1\n",
       "4488    1\n",
       "4487    1\n",
       "4501    1\n",
       "4503    1\n",
       "4519    1\n",
       "4512    1\n",
       "4518    1\n",
       "4517    1\n",
       "4516    1\n",
       "4515    1\n",
       "4514    1\n",
       "4513    1\n",
       "4511    1\n",
       "4504    1\n",
       "4510    1\n",
       "4509    1\n",
       "4508    1\n",
       "4507    1\n",
       "4506    1\n",
       "4505    1\n",
       "4096    1\n",
       "Name: DispNum3, Length: 575, dtype: int64"
      ]
     },
     "execution_count": 489,
     "metadata": {},
     "output_type": "execute_result"
    }
   ],
   "source": [
    "modern_disputes[\"Major_Disp\"] = modern_disputes.apply(lambda row: is_major_dispute(row[\"HostLev_Disp\"], row[\"Fatality_Disp\"]), axis=1)\n",
    "major_dispute_df = modern_disputes[[\"DispNum3\", \"DispNum4\", \"Major_Disp\"]].drop_duplicates()\n",
    "\n",
    "major_disputes.DispNum3.value_counts()"
   ]
  },
  {
   "cell_type": "code",
   "execution_count": 490,
   "metadata": {
    "collapsed": true
   },
   "outputs": [],
   "source": [
    "incidents = pd.merge(major_dispute_df, incidents, on=[\"DispNum3\", \"DispNum4\"])\n",
    "incidents[\"MonthYear\"] = incidents.apply(lambda row: date_column(row[\"StMon_Part\"], row[\"StYear_Part\"]), axis=1)"
   ]
  },
  {
   "cell_type": "code",
   "execution_count": 491,
   "metadata": {
    "collapsed": false
   },
   "outputs": [
    {
     "data": {
      "text/plain": [
       "55"
      ]
     },
     "execution_count": 491,
     "metadata": {},
     "output_type": "execute_result"
    }
   ],
   "source": [
    "def sequence_column(incid_num):\n",
    "    num = str(incid_num)\n",
    "    return num[-3:]\n",
    "\n",
    "int(sequence_column(355055))"
   ]
  },
  {
   "cell_type": "code",
   "execution_count": 492,
   "metadata": {
    "collapsed": false
   },
   "outputs": [],
   "source": [
    "incidents[\"Disp_Sequence\"] = incidents.apply(lambda row: sequence_column(row[\"IncidNum3\"]), axis=1)"
   ]
  },
  {
   "cell_type": "code",
   "execution_count": 561,
   "metadata": {
    "collapsed": false
   },
   "outputs": [
    {
     "data": {
      "text/plain": [
       "Index(['DispNum3', 'DispNum4', 'Major_Disp', 'IncidNum3', 'IncidNum4',\n",
       "       'StDay_Inc', 'StMon_Inc', 'StYear_Inc', 'EndDay_Inc', 'EndMon_Inc',\n",
       "       'EndYear_Inc', 'Duration', 'TBI', 'Fatality_Inc', 'FatalPre_Inc',\n",
       "       'Action_Inc', 'HostLev_Inc', 'NumA', 'RevType1_Inc', 'RevType2_Inc',\n",
       "       'Version', 'StAbb', 'ccode', 'StDay_Part', 'StMon_Part', 'StYear_Part',\n",
       "       'EndDay_Part', 'EndMon_Part', 'EndYear_Part', 'InSide A', 'SideA',\n",
       "       'Fatality_Part', 'FatalPre_Part', 'Action_Part', 'HostLev_Part',\n",
       "       'RevType1_Part', 'RevType2_Part', 'MonthYear', 'Disp_Sequence'],\n",
       "      dtype='object')"
      ]
     },
     "execution_count": 561,
     "metadata": {},
     "output_type": "execute_result"
    }
   ],
   "source": [
    "first_incidents = incidents[incidents.Disp_Sequence == \"001\"]\n",
    "first_incidents.to_csv(\"first_incidents.csv\")\n",
    "\n",
    "x = first_incidents[[\"DispNum3\", \"DispNum4\", \"Action_Inc\"]].drop_duplicates()\n",
    "a = disputes[[\"DispNum3\", \"DispNum4\", \"HiAct_Disp\"]]\n",
    "b = pd.merge(a, x, on=[\"DispNum3\", \"DispNum4\"])\n",
    "b = b.drop_duplicates()\n",
    "b[b.HiAct_Disp > b.Action_Inc]\n",
    "len(dispute1[dispute1.StYear<=1991])\n",
    "incidents.columns"
   ]
  },
  {
   "cell_type": "code",
   "execution_count": 564,
   "metadata": {
    "collapsed": false
   },
   "outputs": [
    {
     "data": {
      "text/plain": [
       "Index(['DispNum3', 'DispNum4', 'StDay', 'StMon', 'StYear', 'EndDay', 'EndMon',\n",
       "       'EndYear', 'Outcome', 'Settle', 'Fatality', 'FatalPre', 'MaxDur',\n",
       "       'MinDur', 'HiAct', 'HostLev', 'Recip', 'NumA', 'NumB', 'Link1', 'Link2',\n",
       "       'Link3', 'Ongo2010', 'Version'],\n",
       "      dtype='object')"
      ]
     },
     "execution_count": 564,
     "metadata": {},
     "output_type": "execute_result"
    }
   ],
   "source": [
    "disputes.head(50)\n",
    "dispute1.columns"
   ]
  },
  {
   "cell_type": "markdown",
   "metadata": {},
   "source": [
    "#### Visuals"
   ]
  },
  {
   "cell_type": "code",
   "execution_count": null,
   "metadata": {
    "collapsed": true
   },
   "outputs": [],
   "source": []
  },
  {
   "cell_type": "code",
   "execution_count": null,
   "metadata": {
    "collapsed": true
   },
   "outputs": [],
   "source": []
  },
  {
   "cell_type": "code",
   "execution_count": null,
   "metadata": {
    "collapsed": true
   },
   "outputs": [],
   "source": []
  },
  {
   "cell_type": "code",
   "execution_count": null,
   "metadata": {
    "collapsed": true
   },
   "outputs": [],
   "source": []
  },
  {
   "cell_type": "code",
   "execution_count": null,
   "metadata": {
    "collapsed": true
   },
   "outputs": [],
   "source": []
  },
  {
   "cell_type": "markdown",
   "metadata": {},
   "source": [
    "#### Models"
   ]
  },
  {
   "cell_type": "code",
   "execution_count": 221,
   "metadata": {
    "collapsed": false
   },
   "outputs": [
    {
     "data": {
      "text/plain": [
       "Index(['DispNum3', 'DispNum4', 'Major_Disp', 'IncidNum3', 'IncidNum4',\n",
       "       'StDay_Inc', 'StMon_Inc', 'StYear_Inc', 'EndDay_Inc', 'EndMon_Inc',\n",
       "       'EndYear_Inc', 'Duration', 'TBI', 'Fatality_Inc', 'FatalPre_Inc',\n",
       "       'Action_Inc', 'HostLev_Inc', 'NumA', 'RevType1_Inc', 'RevType2_Inc',\n",
       "       'Version', 'StAbb', 'ccode', 'StDay_Part', 'StMon_Part', 'StYear_Part',\n",
       "       'EndDay_Part', 'EndMon_Part', 'EndYear_Part', 'InSide A', 'SideA',\n",
       "       'Fatality_Part', 'FatalPre_Part', 'Action_Part', 'HostLev_Part',\n",
       "       'RevType1_Part', 'RevType2_Part'],\n",
       "      dtype='object')"
      ]
     },
     "execution_count": 221,
     "metadata": {},
     "output_type": "execute_result"
    }
   ],
   "source": [
    "y = incidents[\"Major_Disp\"]\n",
    "X = incidents[[\"EndYear_Inc\", \"RevType1_Inc\", \"RevType2_Inc\", \"Duration\"]]\n",
    "incidents.columns"
   ]
  },
  {
   "cell_type": "code",
   "execution_count": 222,
   "metadata": {
    "collapsed": false
   },
   "outputs": [
    {
     "name": "stdout",
     "output_type": "stream",
     "text": [
      "0.586698329133\n"
     ]
    }
   ],
   "source": [
    "logreg = LogisticRegression()\n",
    "print(cross_val_score(logreg, X, y, cv=10, scoring='accuracy').mean())"
   ]
  },
  {
   "cell_type": "code",
   "execution_count": 229,
   "metadata": {
    "collapsed": false
   },
   "outputs": [
    {
     "name": "stdout",
     "output_type": "stream",
     "text": [
      "0.657528527693\n"
     ]
    }
   ],
   "source": [
    "knn = KNeighborsClassifier(n_neighbors=5)\n",
    "knn.fit(X, y)\n",
    "y_pred = knn.predict(X)\n",
    "print(metrics.accuracy_score(y, y_pred))"
   ]
  },
  {
   "cell_type": "code",
   "execution_count": 230,
   "metadata": {
    "collapsed": false
   },
   "outputs": [
    {
     "data": {
      "text/plain": [
       "0.49138852591902549"
      ]
     },
     "execution_count": 230,
     "metadata": {},
     "output_type": "execute_result"
    }
   ],
   "source": [
    "scores = cross_val_score(knn, X, y, cv=10, scoring='accuracy')\n",
    "scores.mean()"
   ]
  },
  {
   "cell_type": "code",
   "execution_count": 502,
   "metadata": {
    "collapsed": false
   },
   "outputs": [
    {
     "data": {
      "text/plain": [
       "0.51945051939762266"
      ]
     },
     "execution_count": 502,
     "metadata": {},
     "output_type": "execute_result"
    }
   ],
   "source": [
    "rfc = RandomForestClassifier()\n",
    "rfc.fit(X,y)\n",
    "y_pred = rfc.predict(X)\n",
    "metrics.accuracy_score(y, y_pred)\n",
    "cross_val_score(rfc, X, y, cv=10, scoring='accuracy').mean()"
   ]
  },
  {
   "cell_type": "code",
   "execution_count": null,
   "metadata": {
    "collapsed": true
   },
   "outputs": [],
   "source": []
  }
 ],
 "metadata": {
  "anaconda-cloud": {},
  "kernelspec": {
   "display_name": "Python 3",
   "language": "python",
   "name": "python3"
  },
  "language_info": {
   "codemirror_mode": {
    "name": "ipython",
    "version": 3
   },
   "file_extension": ".py",
   "mimetype": "text/x-python",
   "name": "python",
   "nbconvert_exporter": "python",
   "pygments_lexer": "ipython3",
   "version": "3.6.2"
  }
 },
 "nbformat": 4,
 "nbformat_minor": 1
}
